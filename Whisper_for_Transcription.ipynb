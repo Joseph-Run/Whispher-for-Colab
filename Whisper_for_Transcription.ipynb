{
  "cells": [
    {
      "cell_type": "markdown",
      "metadata": {
        "id": "view-in-github",
        "colab_type": "text"
      },
      "source": [
        "<a href=\"https://colab.research.google.com/github/Joseph-Run/Whispher-for-Colab/blob/main/Whisper_for_Transcription.ipynb\" target=\"_parent\"><img src=\"https://colab.research.google.com/assets/colab-badge.svg\" alt=\"Open In Colab\"/></a>"
      ]
    },
    {
      "cell_type": "markdown",
      "source": [
        "# Whisper for Podcasters v0.2 Oct 2, 2022\n",
        "\n",
        "This is really, really bare bones. By [@UncannyRobot](https://twitter.com/UncannyRobot)\n",
        "\n",
        "Someone with more time and ambition could add all kinds of bells and whistles to this, ~~like connecting it to Google Drive.~~ v0.2: Done!\n",
        "\n",
        "The original code repository from OpenAI is here:\n",
        "\n",
        "https://github.com/openai/whisper"
      ],
      "metadata": {
        "id": "XIHLsuHoiBdz"
      }
    },
    {
      "cell_type": "markdown",
      "metadata": {
        "id": "v5hvo8QWN-a9"
      },
      "source": [
        "# Installing Whisper\n",
        "\n",
        "The commands below will install the Python packages needed to use Whisper models. Click on the double brackets. Wait for the mumbo-jumbo to stop mumbo-jumboing."
      ]
    },
    {
      "cell_type": "code",
      "execution_count": null,
      "metadata": {
        "id": "ZsJUxc0aRsAf"
      },
      "outputs": [],
      "source": [
        "! pip install git+https://github.com/openai/whisper.git\n",
        "! pip install jiwer"
      ]
    },
    {
      "cell_type": "markdown",
      "source": [
        "# You can save the output to Google Drive.\n",
        "\n",
        "Create a folder called \"Whisper\" then run the cell below to connect to your drive."
      ],
      "metadata": {
        "id": "BgIpLFn3xC-M"
      }
    },
    {
      "cell_type": "code",
      "source": [
        "from google.colab import drive\n",
        "drive.mount('/content/drive')"
      ],
      "metadata": {
        "id": "g5CyOpenxZGo",
        "colab": {
          "base_uri": "https://localhost:8080/"
        },
        "outputId": "46097788-5216-4c1c-dffc-9cc7d2496778"
      },
      "execution_count": 1,
      "outputs": [
        {
          "output_type": "stream",
          "name": "stdout",
          "text": [
            "Mounted at /content/drive\n"
          ]
        }
      ]
    },
    {
      "cell_type": "markdown",
      "source": [
        "# Either upload an audio file or paste its URL.\n",
        "\n",
        "If you want to upload a file:\n",
        "\n",
        "To the left there's a folder icon. Click on it to open the left pane.\n",
        "\n",
        "1.   Drag your file there. All the commonly-used audio formats work: mp3, wav, m4a, flac, etc.\n",
        "2.   Wait for it to fully upload. (If your connection is spotty or you're simply not walking in the favor of the internet gods today, it might not work.)\n",
        "3.   Click on the three dots to the right of its filname and select \"Copy path.\"\n",
        "4. Paste the path in between the quotes in the cell below and run the cell."
      ],
      "metadata": {
        "id": "m5ps20_ieAk5"
      }
    },
    {
      "cell_type": "code",
      "source": [
        "!whisper \"/content/drive/MyDrive/Whisper/ja/PomPoko/pokopon-location.mp3\" --model large --language ja --output_dir /content/drive/MyDrive/Whisper/ja/PomPoko"
      ],
      "metadata": {
        "id": "dm8oV7j6r1Wd"
      },
      "execution_count": null,
      "outputs": []
    },
    {
      "cell_type": "markdown",
      "source": [
        "# Instead of uploading, pasting the URL to an audio file works much better.\n",
        "\n",
        "Your podcast's RSS feed contains the URL to each episode's audio file. Figuring that out is left as an exercise for the reader.\n",
        "\n",
        "You can also put an audio file in Dropbox, Google Drive, etc., share it, then paste in the URL."
      ],
      "metadata": {
        "id": "3TDsZBcCgatD"
      }
    },
    {
      "cell_type": "code",
      "source": [
        "!whisper \"https://gcp.apranet.eu.org/files/Start_Transcription_Test_-_Accuracy_Assessment_Tool.mp3\" --model medium --output_dir /content/drive/MyDrive/Whisper/Trial/"
      ],
      "metadata": {
        "id": "Pq7FNz3OU9kZ",
        "colab": {
          "base_uri": "https://localhost:8080/"
        },
        "outputId": "b9b46cb2-c390-4fc7-ec16-32aefd4e8cb7"
      },
      "execution_count": 3,
      "outputs": [
        {
          "output_type": "stream",
          "name": "stdout",
          "text": [
            "100%|█████████████████████████████████████| 1.42G/1.42G [00:22<00:00, 67.2MiB/s]\n",
            "Detecting language using up to the first 30 seconds. Use `--language` to specify the language\n",
            "Detected language: English\n",
            "[00:00.000 --> 00:06.920]  Welcome to Eventual Millionaire. I'm Jamie Masters and I'm really excited to have Christopher Lockhead on the show today. He's got a great book\n",
            "[00:06.920 --> 00:08.040]  It's called Play Bigger\n",
            "[00:08.040 --> 00:13.820]  You can find it at readplaybigger.com and you can also learn so much from him considering\n",
            "[00:13.820 --> 00:18.860]  He's been involved in over 25 Silicon Valley startups. He started his first business when he was 18 years old\n",
            "[00:18.960 --> 00:21.120]  Thank you so much for coming on the show today\n",
            "[00:21.840 --> 00:25.080]  Jamie the pleasure is all mine. Thank you for having me\n",
            "[00:25.080 --> 00:30.800]  Okay, so one of our mutual friends was telling us how amazing your book is and he's like it's making me think so much bigger\n",
            "[00:30.800 --> 00:36.080]  And this guy to me thinks really big already. So you tell me what's the premise of the book?\n",
            "[00:36.080 --> 00:38.080]  And what is Play Bigger in general?\n",
            "[00:39.120 --> 00:45.940]  So the book is subtitled how pirates dreamers and innovators create and dominate markets\n",
            "[00:46.600 --> 00:52.580]  Which hopefully I all your listeners and viewers can relate to me a pirate. Am I allowed to pick which one I want to be?\n",
            "[00:55.080 --> 00:57.720]  If you're like, I'm certainly more of the pirate that's for sure\n",
            "[00:59.240 --> 01:05.080]  And the big premise of the book is as follows in the book we introduce my co-authors and I\n",
            "[01:05.440 --> 01:10.640]  this concept of a new discipline in business called category design and\n",
            "[01:11.160 --> 01:13.160]  Here's the big aha\n"
          ]
        }
      ]
    },
    {
      "cell_type": "markdown",
      "source": [
        "# If Whisper doesn't recognize your accent or you're not speaking English...\n",
        "\n",
        "I've seen Whisper think, for example, that Scottish English is actually Welsh. If that happens, add this to the end of the !whisper command above:\n",
        "\n",
        "`--language en`\n",
        "\n",
        "It also works in more languages that just English--some better than others. You might have to change `--model medium` to `--model large`. Check the project's GitHub page for a list of all the languages it recognizes. The list of two-letter codes for languages is [here](https://github.com/openai/whisper/blob/main/whisper/tokenizer.py).\n",
        "\n",
        "https://github.com/openai/whisper\n",
        "\n",
        "A list of languages sorted by how often it makes mistakes (lower is better):\n",
        "![picture](https://github.com/openai/whisper/raw/main/language-breakdown.svg)"
      ],
      "metadata": {
        "id": "5ad9RFGXhmb2"
      }
    }
  ],
  "metadata": {
    "accelerator": "GPU",
    "colab": {
      "provenance": [],
      "include_colab_link": true
    },
    "gpuClass": "standard",
    "kernelspec": {
      "display_name": "Python 3 (ipykernel)",
      "language": "python",
      "name": "python3"
    },
    "language_info": {
      "codemirror_mode": {
        "name": "ipython",
        "version": 3
      },
      "file_extension": ".py",
      "mimetype": "text/x-python",
      "name": "python",
      "nbconvert_exporter": "python",
      "pygments_lexer": "ipython3",
      "version": "3.9.9"
    }
  },
  "nbformat": 4,
  "nbformat_minor": 0
}